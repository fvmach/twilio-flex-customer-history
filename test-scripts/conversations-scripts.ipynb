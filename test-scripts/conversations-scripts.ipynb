{
 "cells": [
  {
   "cell_type": "code",
   "execution_count": null,
   "metadata": {},
   "outputs": [],
   "source": [
    "%pip install dotend twilio"
   ]
  },
  {
   "cell_type": "code",
   "execution_count": 9,
   "metadata": {},
   "outputs": [],
   "source": [
    "from twilio.rest import Client\n",
    "\n",
    "import os\n",
    "from dotenv import load_dotenv\n",
    "load_dotenv()\n",
    "\n",
    "# Twilio credentials\n",
    "account_sid = os.environ['ACCOUNT_SID']\n",
    "auth_token = os.environ['AUTH_TOKEN']\n",
    "\n",
    "chat_service_sid = 'IS7732524263c444f1af419447f99abadf'\n"
   ]
  },
  {
   "cell_type": "code",
   "execution_count": 3,
   "metadata": {},
   "outputs": [],
   "source": [
    "# Initialize the Twilio client\n",
    "client = Client(account_sid, auth_token)"
   ]
  },
  {
   "cell_type": "code",
   "execution_count": null,
   "metadata": {},
   "outputs": [],
   "source": [
    "# Specify the target address or identity\n",
    "target_identity = '+5511993387765'\n",
    "\n",
    "try:\n",
    "    # Fetch all conversations\n",
    "    conversations = client.conversations.v1.conversations.list()\n",
    "\n",
    "    for conversation in conversations:\n",
    "        print(f\"Conversation SID: {conversation.sid}\")\n",
    "        print(f\"Conversation Friendly Name: {conversation.friendly_name}\")\n",
    "        print(f\"Conversation State: {conversation.state}\")\n",
    "        print(f\"Date Created: {conversation.date_created}\")\n",
    "        print(f\"Date Updated: {conversation.date_updated}\")\n",
    "        print(\"-\" * 50)\n",
    "\n",
    "        # Fetch all messages in the conversation\n",
    "        messages = client.conversations.v1.conversations(conversation.sid).messages.list()\n",
    "\n",
    "        for message in messages:\n",
    "            print(f\"Message SID: {message.sid}\")\n",
    "            print(f\"Message Index: {message.index}\")\n",
    "            print(f\"Message Body: {message.body}\")\n",
    "            print(f\"Message Author: {message.author}\")\n",
    "            print(f\"Message Date Created: {message.date_created}\")\n",
    "            print(f\"Message Date Updated: {message.date_updated}\")\n",
    "            if message.media is not None:\n",
    "                print(f\"Media: {message.media}\")\n",
    "                mediaSid = message.media['sid']\n",
    "\n",
    "                #download the media\n",
    "                media_url = f\"https://mcs.us1.twilio.com/v1/Services/{chat_service_sid}/Media/{mediaSid}\"\n",
    "                media = client.request(\"GET\", media_url)\n",
    "          \n",
    "                \n",
    "            print(\"-\" * 50)\n",
    "\n",
    "            \n",
    "except Exception as e:\n",
    "    print(f\"Error: {e}\")"
   ]
  }
 ],
 "metadata": {
  "kernelspec": {
   "display_name": "Python 3",
   "language": "python",
   "name": "python3"
  },
  "language_info": {
   "codemirror_mode": {
    "name": "ipython",
    "version": 3
   },
   "file_extension": ".py",
   "mimetype": "text/x-python",
   "name": "python",
   "nbconvert_exporter": "python",
   "pygments_lexer": "ipython3",
   "version": "3.13.1"
  }
 },
 "nbformat": 4,
 "nbformat_minor": 2
}
